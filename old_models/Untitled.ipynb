{
 "cells": [
  {
   "cell_type": "code",
   "execution_count": null,
   "metadata": {},
   "outputs": [],
   "source": [
    "def predictheart():\n",
    "    if request.method == 'POST':\n",
    "        age = float(request.form['age'])\n",
    "        sex = float(request.form['sex'])\n",
    "        cp = float(request.form['cp'])\n",
    "        trestbps = float(request.form['trestbps'])\n",
    "        chol = float(request.form['chol'])\n",
    "        fbs= float(request.form['fbs'])\n",
    "        restecg = float(request.form['restecg'])\n",
    "        thalach = float(request.form['thalach'])\n",
    "        exang = float(request.form['exang'])\n",
    "        oldpeak = float(request.form['oldpeak'])\n",
    "        slope = float(request.form['slope'])\n",
    "        ca = float(request.form['ca'])\n",
    "        thal = float(request.form['thal'])\n",
    "\n",
    "        pred_args = [age,sex,cp,trestbps,chol,fbs,restecg,thalach,exang,oldpeak,slope,ca,thal]\n",
    "\n",
    "        mul_reg = open('model_heart.pkl','rb')\n",
    "        ml_model = joblib.load(mul_reg)\n",
    "        model_predcition = ml_model.predict([pred_args])\n",
    "        if model_predcition == 1:\n",
    "            res = 'Affected'\n",
    "        else:\n",
    "            res = 'Not affected'\n",
    "        #return res\n",
    "    return render_template('predict2.html', prediction = res)\n"
   ]
  },
  {
   "cell_type": "code",
   "execution_count": null,
   "metadata": {},
   "outputs": [],
   "source": [
    "Age = float(request.form['age'])\n",
    "BP = float(request.form['bp'])\n",
    "AL=float(request.form['al'])\n",
    "SU= float(request.form['su'])\n",
    "RBC = float(request.form['rbc'])\n",
    "PC = float(request.form['pc'])\n",
    "PCC = float(request.form['pcc'])\n",
    "BA = float(request.form['ba'])\n",
    "BGR = float(request.form['bgr'])\n",
    "BU = float(request.form['bu'])\n",
    "SC = float(request.form['sc'])\n",
    "POT = float(request.form['pot'])\n",
    "WC = float(request.form['wc'])\n",
    "HTN =float(request.form['htn'])\n",
    "DM = float(request.form['dm'])\n",
    "CAD = float(request.form['cad'])\n",
    "PE = float(request.form['pe'])\n",
    "ANE = float(request.form['ane'])"
   ]
  },
  {
   "cell_type": "code",
   "execution_count": null,
   "metadata": {},
   "outputs": [],
   "source": [
    "def predict5():\n",
    "    if request.method == 'POST':\n",
    "        Radius_mean = float(request.form['Radius_mean'])\n",
    "        Texture_mean = float(request.form['Texture_mean'])\n",
    "        Perimeter_meanL=float(request.form['Perimeter_mean'])\n",
    "        Area_mean= float(request.form['Area_mean'])\n",
    "        Smoothness_mean = float(request.form['Smoothness_mean'])\n",
    "        Compactness_mean = float(request.form['Compactness_mean'])\n",
    "        concavity_se = float(request.form['concavity_se'])\n",
    "        concave_points_mean = float(request.form['concave_points_mean'])\n",
    "        symmetry_mean = float(request.form['symmetry_mean'])\n",
    "        fractal_dimension_mean = float(request.form['fractal_dimension_mean'])\n",
    "        radius_se= float(request.form['radius_se'])\n",
    "        texture_se = float(request.form['texture_se'])\n",
    "        perimeter_se = float(request.form['perimeter_se'])\n",
    "        area_worst = float(request.form['area_worst'])\n",
    "        smoothness_worst =float(request.form['smoothness_worst'])\n",
    "        compactness_worst = float(request.form['compactness_worst'])\n",
    "        concavity_se = float(request.form['concavity_se'])\n",
    "        concave points_se = float(request.form['concave points_se'])\n",
    "        symmetry_se = float(request.form['symmetry_se'])\n",
    "        fractal_dimension_se = float(request.form['fractal_dimension_se']))\n",
    "        radius_worst = float(request.form['radius_worst']))\n",
    "        texture_worst = float(request.form['texture_worst']))\n",
    "        perimeter_worst = float(request.form['perimeter_worst']))\n",
    "        area_worst = float(request.form['area_worst']))\n",
    "        smoothness_worst = float(request.form['smoothness_worst']))\n",
    "        compactness_worst = float(request.form['compactness_worst']))\n",
    "        concavity_worst = float(request.form['concavity_worst']))\n",
    "        concave points_worst = float(request.form['concave_points_worst']))\n",
    "        symmetry_worst = float(request.form['symmetry_worst']))\n",
    "        fractal_dimension_worst = float(request.form['fractal_dimension_worst']))\n",
    "        symmetry_se = float(request.form['symmetry_se']))"
   ]
  },
  {
   "cell_type": "code",
   "execution_count": null,
   "metadata": {},
   "outputs": [],
   "source": [
    "Radius_mean,Texture_mean,Perimeter_meanL,Area_mean,Smoothness_mean,Compactness_mean,concavity_se,concave_points_mean,symmetry_mean,fractal_dimension_mean,radius_se,texture_se,perimeter_se,area_worst,smoothness_worst,compactness_worst,concavity_se,concave points_se,symmetry_se,fractal_dimension_se,radius_worst,texture_worst,perimeter_worst,area_worst,smoothness_worst,compactness_worst,concavity_worst,concave_points_worst,symmetry_worst,fractal_dimension_worst,symmetry_se"
   ]
  },
  {
   "cell_type": "code",
   "execution_count": 2,
   "metadata": {},
   "outputs": [
    {
     "ename": "SyntaxError",
     "evalue": "invalid syntax (<ipython-input-2-1f8680a40d50>, line 1)",
     "output_type": "error",
     "traceback": [
      "\u001b[1;36m  File \u001b[1;32m\"<ipython-input-2-1f8680a40d50>\"\u001b[1;36m, line \u001b[1;32m1\u001b[0m\n\u001b[1;33m    values = np.array([[Radius_mean , Texture_mean , Perimeter_meanL , Area_mean , Smoothness_mean , Compactness_mean , concavity_se , concave_points_mean , symmetry_mean , fractal_dimension_mean , radius_se , texture_se , perimeter_se , area_worst , smoothness_worst , compactness_worst , concavity_se , concave points_se , symmetry_se , fractal_dimension_se , radius_worst , texture_worst , perimeter_worst , area_worst , smoothness_worst , compactness_worst , concavity_worst , concave_points_worst , symmetry_worst , fractal_dimension_worst , symmetry_se]])\u001b[0m\n\u001b[1;37m                                                                                                                                                                                                                                                                                                                                 ^\u001b[0m\n\u001b[1;31mSyntaxError\u001b[0m\u001b[1;31m:\u001b[0m invalid syntax\n"
     ]
    }
   ],
   "source": [
    "values = np.array([[Radius_mean,Texture_mean,Perimeter_meanL , Area_mean , Smoothness_mean , Compactness_mean , concavity_se , concave_points_mean , symmetry_mean , fractal_dimension_mean , radius_se , texture_se , perimeter_se , area_worst , smoothness_worst , compactness_worst , concavity_se , concave points_se , symmetry_se , fractal_dimension_se , radius_worst , texture_worst , perimeter_worst , area_worst , smoothness_worst , compactness_worst , concavity_worst , concave_points_worst , symmetry_worst , fractal_dimension_worst , symmetry_se]])\n"
   ]
  },
  {
   "cell_type": "code",
   "execution_count": 6,
   "metadata": {},
   "outputs": [
    {
     "ename": "NameError",
     "evalue": "name 'np' is not defined",
     "output_type": "error",
     "traceback": [
      "\u001b[1;31m---------------------------------------------------------------------------\u001b[0m",
      "\u001b[1;31mNameError\u001b[0m                                 Traceback (most recent call last)",
      "\u001b[1;32m<ipython-input-6-7d4dd2b91c54>\u001b[0m in \u001b[0;36m<module>\u001b[1;34m\u001b[0m\n\u001b[1;32m----> 1\u001b[1;33m \u001b[0mvalues\u001b[0m \u001b[1;33m=\u001b[0m \u001b[0mnp\u001b[0m\u001b[1;33m.\u001b[0m\u001b[0marray\u001b[0m\u001b[1;33m(\u001b[0m\u001b[1;33m[\u001b[0m\u001b[1;33m[\u001b[0m\u001b[0mRadius_mean\u001b[0m\u001b[1;33m,\u001b[0m\u001b[0mTexture_mean\u001b[0m\u001b[1;33m,\u001b[0m\u001b[0mPerimeter_meanL\u001b[0m\u001b[1;33m,\u001b[0m\u001b[0mArea_mean\u001b[0m\u001b[1;33m,\u001b[0m\u001b[0mSmoothness_mean\u001b[0m\u001b[1;33m,\u001b[0m\u001b[0mCompactness_mean\u001b[0m\u001b[1;33m,\u001b[0m\u001b[0mconcavity_se\u001b[0m\u001b[1;33m,\u001b[0m\u001b[0mconcave_points_mean\u001b[0m\u001b[1;33m,\u001b[0m\u001b[0msymmetry_mean\u001b[0m\u001b[1;33m,\u001b[0m\u001b[0mfractal_dimension_mean\u001b[0m\u001b[1;33m,\u001b[0m\u001b[0mradius_se\u001b[0m\u001b[1;33m,\u001b[0m\u001b[0mPOT\u001b[0m\u001b[1;33m,\u001b[0m\u001b[0mtexture_se\u001b[0m\u001b[1;33m,\u001b[0m\u001b[0mperimeter_se\u001b[0m\u001b[1;33m,\u001b[0m\u001b[0marea_worst\u001b[0m\u001b[1;33m,\u001b[0m\u001b[0msmoothness_worst\u001b[0m\u001b[1;33m,\u001b[0m\u001b[0mPE\u001b[0m\u001b[1;33m,\u001b[0m\u001b[0mcompactness_worst\u001b[0m\u001b[1;33m,\u001b[0m\u001b[0mconcavity_se\u001b[0m\u001b[1;33m,\u001b[0m\u001b[0mconcave_points_se\u001b[0m\u001b[1;33m,\u001b[0m\u001b[0msymmetry_se\u001b[0m\u001b[1;33m,\u001b[0m\u001b[0mfractal_dimension_se\u001b[0m\u001b[1;33m,\u001b[0m\u001b[0mradius_worst\u001b[0m\u001b[1;33m,\u001b[0m\u001b[0mtexture_worst\u001b[0m\u001b[1;33m,\u001b[0m\u001b[0mperimeter_worst\u001b[0m\u001b[1;33m,\u001b[0m\u001b[0marea_worst\u001b[0m\u001b[1;33m,\u001b[0m\u001b[0msmoothness_worst\u001b[0m\u001b[1;33m,\u001b[0m\u001b[0mcompactness_worst\u001b[0m\u001b[1;33m,\u001b[0m\u001b[0mconcavity_worst\u001b[0m\u001b[1;33m,\u001b[0m\u001b[0mconcave_points_worst\u001b[0m\u001b[1;33m,\u001b[0m\u001b[0msymmetry_worst\u001b[0m\u001b[1;33m,\u001b[0m\u001b[0mfractal_dimension_worst\u001b[0m\u001b[1;33m,\u001b[0m\u001b[0msymmetry_se\u001b[0m\u001b[1;33m]\u001b[0m\u001b[1;33m]\u001b[0m\u001b[1;33m)\u001b[0m\u001b[1;33m\u001b[0m\u001b[1;33m\u001b[0m\u001b[0m\n\u001b[0m",
      "\u001b[1;31mNameError\u001b[0m: name 'np' is not defined"
     ]
    }
   ],
   "source": [
    "values = np.array([[Radius_mean,Texture_mean,Perimeter_meanL,Area_mean,Smoothness_mean,Compactness_mean,concavity_se,concave_points_mean,symmetry_mean,fractal_dimension_mean,radius_se,POT,texture_se,perimeter_se,area_worst,smoothness_worst,PE,compactness_worst,concavity_se,concave_points_se,symmetry_se,fractal_dimension_se,radius_worst,texture_worst,perimeter_worst,area_worst,smoothness_worst,compactness_worst,concavity_worst,concave_points_worst,symmetry_worst,fractal_dimension_worst,symmetry_se]])"
   ]
  },
  {
   "cell_type": "code",
   "execution_count": null,
   "metadata": {},
   "outputs": [],
   "source": []
  }
 ],
 "metadata": {
  "kernelspec": {
   "display_name": "Python 3",
   "language": "python",
   "name": "python3"
  },
  "language_info": {
   "codemirror_mode": {
    "name": "ipython",
    "version": 3
   },
   "file_extension": ".py",
   "mimetype": "text/x-python",
   "name": "python",
   "nbconvert_exporter": "python",
   "pygments_lexer": "ipython3",
   "version": "3.7.6"
  }
 },
 "nbformat": 4,
 "nbformat_minor": 4
}
